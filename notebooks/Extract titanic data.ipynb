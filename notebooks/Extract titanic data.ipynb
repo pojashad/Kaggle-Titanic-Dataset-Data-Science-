{
 "cells": [
  {
   "cell_type": "code",
   "execution_count": 10,
   "metadata": {},
   "outputs": [
    {
     "name": "stdout",
     "output_type": "stream",
     "text": [
      "Requirement already satisfied: kaggle in /Users/pojashad/.pyenv/versions/3.7.3/lib/python3.7/site-packages (1.5.10)\n",
      "Requirement already satisfied: six>=1.10 in /Users/pojashad/.pyenv/versions/3.7.3/lib/python3.7/site-packages (from kaggle) (1.15.0)\n",
      "Requirement already satisfied: certifi in /Users/pojashad/.pyenv/versions/3.7.3/lib/python3.7/site-packages (from kaggle) (2020.12.5)\n",
      "Requirement already satisfied: python-dateutil in /Users/pojashad/.pyenv/versions/3.7.3/lib/python3.7/site-packages (from kaggle) (2.8.1)\n",
      "Requirement already satisfied: requests in /Users/pojashad/.pyenv/versions/3.7.3/lib/python3.7/site-packages (from kaggle) (2.25.1)\n",
      "Requirement already satisfied: tqdm in /Users/pojashad/.pyenv/versions/3.7.3/lib/python3.7/site-packages (from kaggle) (4.56.0)\n",
      "Requirement already satisfied: python-slugify in /Users/pojashad/.pyenv/versions/3.7.3/lib/python3.7/site-packages (from kaggle) (4.0.1)\n",
      "Requirement already satisfied: urllib3 in /Users/pojashad/.pyenv/versions/3.7.3/lib/python3.7/site-packages (from kaggle) (1.26.2)\n",
      "Requirement already satisfied: text-unidecode>=1.3 in /Users/pojashad/.pyenv/versions/3.7.3/lib/python3.7/site-packages (from python-slugify->kaggle) (1.3)\n",
      "Requirement already satisfied: chardet<5,>=3.0.2 in /Users/pojashad/.pyenv/versions/3.7.3/lib/python3.7/site-packages (from requests->kaggle) (3.0.4)\n",
      "Requirement already satisfied: idna<3,>=2.5 in /Users/pojashad/.pyenv/versions/3.7.3/lib/python3.7/site-packages (from requests->kaggle) (2.10)\n"
     ]
    }
   ],
   "source": [
    "!pip install --upgrade kaggle"
   ]
  },
  {
   "cell_type": "code",
   "execution_count": 16,
   "metadata": {},
   "outputs": [],
   "source": [
    "import json\n",
    "import os\n",
    "api_file_path = '/Users/pojashad/.kaggle/kaggle.json'\n",
    "with open(api_file_path) as f:\n",
    "    kaggle_token = json.load(f)\n",
    "    # kaggle authentication\n",
    "    os.environ[\"KAGGLE_USERNAME\"] = kaggle_token['username']\n",
    "    os.environ[\"KAGGLE_KEY\"] = kaggle_token['key']"
   ]
  },
  {
   "cell_type": "code",
   "execution_count": 18,
   "metadata": {},
   "outputs": [],
   "source": [
    "from kaggle.api.kaggle_api_extended import KaggleApi"
   ]
  },
  {
   "cell_type": "code",
   "execution_count": 19,
   "metadata": {},
   "outputs": [
    {
     "name": "stderr",
     "output_type": "stream",
     "text": [
      "100%|██████████| 59.8k/59.8k [00:00<00:00, 21.1MB/s]"
     ]
    },
    {
     "name": "stdout",
     "output_type": "stream",
     "text": [
      "Downloading train.csv to ../data/raw\n",
      "\n"
     ]
    },
    {
     "name": "stderr",
     "output_type": "stream",
     "text": [
      "\n",
      "100%|██████████| 28.0k/28.0k [00:00<00:00, 11.0MB/s]"
     ]
    },
    {
     "name": "stdout",
     "output_type": "stream",
     "text": [
      "Downloading test.csv to ../data/raw\n",
      "\n"
     ]
    },
    {
     "name": "stderr",
     "output_type": "stream",
     "text": [
      "\n"
     ]
    }
   ],
   "source": [
    "# create kaggle API object\n",
    "api = KaggleApi()\n",
    "# authenticate\n",
    "api.authenticate()\n",
    "# file paths\n",
    "raw_data_path = os.path.join(os.path.pardir,'data','raw')\n",
    "# this will download 'titanic.zip' in the raw_data_path location\n",
    "api.competition_download_file(competition='titanic', file_name='train.csv',path=raw_data_path, force=True)\n",
    "api.competition_download_file(competition='titanic', file_name='test.csv' ,path=raw_data_path, force=True)"
   ]
  },
  {
   "cell_type": "code",
   "execution_count": 20,
   "metadata": {},
   "outputs": [
    {
     "name": "stdout",
     "output_type": "stream",
     "text": [
      "PassengerId,Survived,Pclass,Name,Sex,Age,SibSp,Parch,Ticket,Fare,Cabin,Embarked\r",
      "\r\n",
      "1,0,3,\"Braund, Mr. Owen Harris\",male,22,1,0,A/5 21171,7.25,,S\r",
      "\r\n",
      "2,1,1,\"Cumings, Mrs. John Bradley (Florence Briggs Thayer)\",female,38,1,0,PC 17599,71.2833,C85,C\r",
      "\r\n",
      "3,1,3,\"Heikkinen, Miss. Laina\",female,26,0,0,STON/O2. 3101282,7.925,,S\r",
      "\r\n",
      "4,1,1,\"Futrelle, Mrs. Jacques Heath (Lily May Peel)\",female,35,1,0,113803,53.1,C123,S\r",
      "\r\n"
     ]
    }
   ],
   "source": [
    "train_data_path = os.path.join(raw_data_path, 'train.csv')\n",
    "# printing top 5 rows\n",
    "!head -5 $train_data_path"
   ]
  },
  {
   "cell_type": "code",
   "execution_count": 21,
   "metadata": {},
   "outputs": [
    {
     "name": "stdout",
     "output_type": "stream",
     "text": [
      "total 176\r\n",
      "-rw-r--r--  1 pojashad  staff  28629 13 Jan 17:01 test.csv\r\n",
      "-rw-r--r--  1 pojashad  staff  61194 13 Jan 17:01 train.csv\r\n"
     ]
    }
   ],
   "source": [
    "!ls -l ../data/raw"
   ]
  },
  {
   "cell_type": "code",
   "execution_count": 22,
   "metadata": {},
   "outputs": [],
   "source": [
    "get_raw_data_script_file = os.path.join(os.path.pardir,'src','data','get_raw_data.py')"
   ]
  },
  {
   "cell_type": "code",
   "execution_count": 27,
   "metadata": {},
   "outputs": [
    {
     "name": "stdout",
     "output_type": "stream",
     "text": [
      "Overwriting ../src/data/get_raw_data.py\n"
     ]
    }
   ],
   "source": [
    "%%writefile $get_raw_data_script_file\n",
    "# -*- coding: utf-8 -*-\n",
    "import json\n",
    "import os\n",
    "import logging\n",
    "\n",
    "# getting root directory\n",
    "project_dir = os.path.join(os.path.dirname(__file__), os.pardir, os.pardir)\n",
    "# read kaggle API token and create enviornment variables\n",
    "api_file_path = '/Users/pojashad/.kaggle/kaggle.json'\n",
    "with open(api_file_path) as f:\n",
    "    kaggle_token = json.load(f)\n",
    "    # environment variable for kaggle authentication\n",
    "    os.environ[\"KAGGLE_USERNAME\"] = kaggle_token['username']\n",
    "    os.environ[\"KAGGLE_KEY\"] = kaggle_token['key']\n",
    "\n",
    "\n",
    "from kaggle.api.kaggle_api_extended import KaggleApi\n",
    "\n",
    "def main(project_dir):\n",
    "    '''\n",
    "    main method\n",
    "    '''\n",
    "    # get logger\n",
    "    logger = logging.getLogger(__name__)\n",
    "    logger.info('getting raw data')\n",
    "    \n",
    "    # file name : check from the competition data page\n",
    "    train_file_name = 'train.csv'\n",
    "    test_file_name = 'test.csv'\n",
    "\n",
    "    # file paths\n",
    "    raw_data_path = os.path.join(project_dir,'data','raw')\n",
    "    \n",
    "    # extract data\n",
    "    api = KaggleApi()\n",
    "    api.authenticate()\n",
    "    api.competition_download_file(competition='titanic', file_name=train_file_name, path=raw_data_path, force=True)\n",
    "    api.competition_download_file(competition='titanic', file_name=test_file_name, path=raw_data_path, force=True)\n",
    "    logger.info('downloaded raw training and test data')\n",
    "\n",
    "\n",
    "if __name__ == '__main__':\n",
    "    \n",
    "    # setup logger\n",
    "    log_fmt = '%(asctime)s - %(name)s - %(levelname)s - %(message)s'\n",
    "    logging.basicConfig(level=logging.INFO, format=log_fmt)\n",
    "\n",
    "    # call the main\n",
    "    main(project_dir)"
   ]
  },
  {
   "cell_type": "code",
   "execution_count": 28,
   "metadata": {},
   "outputs": [
    {
     "name": "stdout",
     "output_type": "stream",
     "text": [
      "2021-01-13 17:04:38,031 - __main__ - INFO - getting raw data\n",
      "Downloading train.csv to ../src/data/../../data/raw\n",
      "  0%|                                               | 0.00/59.8k [00:00<?, ?B/s]\n",
      "100%|██████████████████████████████████████| 59.8k/59.8k [00:00<00:00, 28.2MB/s]\n",
      "Downloading test.csv to ../src/data/../../data/raw\n",
      "  0%|                                               | 0.00/28.0k [00:00<?, ?B/s]\n",
      "100%|██████████████████████████████████████| 28.0k/28.0k [00:00<00:00, 30.3MB/s]\n",
      "2021-01-13 17:04:39,928 - __main__ - INFO - downloaded raw training and test data\n"
     ]
    }
   ],
   "source": [
    "!python $get_raw_data_script_file"
   ]
  },
  {
   "cell_type": "code",
   "execution_count": null,
   "metadata": {},
   "outputs": [],
   "source": []
  }
 ],
 "metadata": {
  "kernelspec": {
   "display_name": "Python 3",
   "language": "python",
   "name": "python3"
  },
  "language_info": {
   "codemirror_mode": {
    "name": "ipython",
    "version": 3
   },
   "file_extension": ".py",
   "mimetype": "text/x-python",
   "name": "python",
   "nbconvert_exporter": "python",
   "pygments_lexer": "ipython3",
   "version": "3.7.3"
  }
 },
 "nbformat": 4,
 "nbformat_minor": 4
}
